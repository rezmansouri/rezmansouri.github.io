{
  "cells": [
    {
      "cell_type": "markdown",
      "source": [
        "<h1>Advanced Data Mining (CSc8740) - Assignment 2</h1>\n",
        "<h4>Instructor: Dr. Berkay Aydin - Spring 2024</h4>\n",
        "<h4>Student name: Reza Mansouri - Panther #: 002784647</h4>"
      ],
      "metadata": {
        "id": "Cp5ACZfF-hRS"
      }
    },
    {
      "cell_type": "markdown",
      "metadata": {
        "id": "mIphCOtcs9Ah"
      },
      "source": [
        "# Packages\n",
        "\n",
        "I will use `tslearn` for downloading the datasets and `aeon` to access the implemented classifers."
      ]
    },
    {
      "cell_type": "code",
      "execution_count": null,
      "metadata": {
        "id": "ht5av2n96wlQ"
      },
      "outputs": [],
      "source": [
        "!pip install -q -U tslearn\n",
        "!pip install -q -U aeon"
      ]
    },
    {
      "cell_type": "code",
      "execution_count": 178,
      "metadata": {
        "id": "Pyx7YosP8bzn"
      },
      "outputs": [],
      "source": [
        "import aeon\n",
        "import tslearn\n",
        "import numpy as np\n",
        "from pprint import pprint\n",
        "import pandas as pd   # only for showing metadata\n",
        "from tqdm import tqdm # for showing progress bars\n",
        "from tslearn.datasets import UCR_UEA_datasets"
      ]
    },
    {
      "cell_type": "markdown",
      "source": [
        "# Data preparation\n",
        "\n",
        "These datasets are all univariate and relatively small."
      ],
      "metadata": {
        "id": "OP6-nm3l5xl6"
      }
    },
    {
      "cell_type": "code",
      "execution_count": 152,
      "metadata": {
        "id": "pKyk5m4irWAh"
      },
      "outputs": [],
      "source": [
        "dataset_names = [\n",
        "    'ECG200',\n",
        "    'Car',\n",
        "    'Chinatown',\n",
        "    'DistalPhalanxOutlineAgeGroup',\n",
        "    'DistalPhalanxTW',\n",
        "    'MiddlePhalanxTW',\n",
        "    'MiddlePhalanxOutlineAgeGroup',\n",
        "    'Fish',\n",
        "    'ProximalPhalanxOutlineAgeGroup',\n",
        "    'ProximalPhalanxTW'\n",
        " ]"
      ]
    },
    {
      "cell_type": "code",
      "execution_count": null,
      "metadata": {
        "id": "eNW1Iiwx8pWp"
      },
      "outputs": [],
      "source": [
        "loader = UCR_UEA_datasets()"
      ]
    },
    {
      "cell_type": "markdown",
      "source": [
        "## Downloading the datasets\n",
        "\n",
        "`datasets` list will contain the `(name, X, y)` tuples."
      ],
      "metadata": {
        "id": "sZEaMYMJ_QJT"
      }
    },
    {
      "cell_type": "code",
      "execution_count": 171,
      "metadata": {
        "colab": {
          "base_uri": "https://localhost:8080/",
          "height": 359
        },
        "id": "0DMLI0ft8011",
        "outputId": "6d0bbc84-eeb2-4c39-8803-cbd28c56d999"
      },
      "outputs": [
        {
          "output_type": "execute_result",
          "data": {
            "text/plain": [
              "                          dataset  size  length  n_classes\n",
              "0                          ECG200   200      96          2\n",
              "1                             Car   120     577          4\n",
              "2                       Chinatown   363      24          2\n",
              "3    DistalPhalanxOutlineAgeGroup   539      80          3\n",
              "4                 DistalPhalanxTW   539      80          6\n",
              "5                 MiddlePhalanxTW   553      80          6\n",
              "6    MiddlePhalanxOutlineAgeGroup   554      80          3\n",
              "7                            Fish   350     463          7\n",
              "8  ProximalPhalanxOutlineAgeGroup   605      80          3\n",
              "9               ProximalPhalanxTW   605      80          6"
            ],
            "text/html": [
              "\n",
              "  <div id=\"df-b165b11d-ed67-48f0-8f5f-6ea5549d5bbb\" class=\"colab-df-container\">\n",
              "    <div>\n",
              "<style scoped>\n",
              "    .dataframe tbody tr th:only-of-type {\n",
              "        vertical-align: middle;\n",
              "    }\n",
              "\n",
              "    .dataframe tbody tr th {\n",
              "        vertical-align: top;\n",
              "    }\n",
              "\n",
              "    .dataframe thead th {\n",
              "        text-align: right;\n",
              "    }\n",
              "</style>\n",
              "<table border=\"1\" class=\"dataframe\">\n",
              "  <thead>\n",
              "    <tr style=\"text-align: right;\">\n",
              "      <th></th>\n",
              "      <th>dataset</th>\n",
              "      <th>size</th>\n",
              "      <th>length</th>\n",
              "      <th>n_classes</th>\n",
              "    </tr>\n",
              "  </thead>\n",
              "  <tbody>\n",
              "    <tr>\n",
              "      <th>0</th>\n",
              "      <td>ECG200</td>\n",
              "      <td>200</td>\n",
              "      <td>96</td>\n",
              "      <td>2</td>\n",
              "    </tr>\n",
              "    <tr>\n",
              "      <th>1</th>\n",
              "      <td>Car</td>\n",
              "      <td>120</td>\n",
              "      <td>577</td>\n",
              "      <td>4</td>\n",
              "    </tr>\n",
              "    <tr>\n",
              "      <th>2</th>\n",
              "      <td>Chinatown</td>\n",
              "      <td>363</td>\n",
              "      <td>24</td>\n",
              "      <td>2</td>\n",
              "    </tr>\n",
              "    <tr>\n",
              "      <th>3</th>\n",
              "      <td>DistalPhalanxOutlineAgeGroup</td>\n",
              "      <td>539</td>\n",
              "      <td>80</td>\n",
              "      <td>3</td>\n",
              "    </tr>\n",
              "    <tr>\n",
              "      <th>4</th>\n",
              "      <td>DistalPhalanxTW</td>\n",
              "      <td>539</td>\n",
              "      <td>80</td>\n",
              "      <td>6</td>\n",
              "    </tr>\n",
              "    <tr>\n",
              "      <th>5</th>\n",
              "      <td>MiddlePhalanxTW</td>\n",
              "      <td>553</td>\n",
              "      <td>80</td>\n",
              "      <td>6</td>\n",
              "    </tr>\n",
              "    <tr>\n",
              "      <th>6</th>\n",
              "      <td>MiddlePhalanxOutlineAgeGroup</td>\n",
              "      <td>554</td>\n",
              "      <td>80</td>\n",
              "      <td>3</td>\n",
              "    </tr>\n",
              "    <tr>\n",
              "      <th>7</th>\n",
              "      <td>Fish</td>\n",
              "      <td>350</td>\n",
              "      <td>463</td>\n",
              "      <td>7</td>\n",
              "    </tr>\n",
              "    <tr>\n",
              "      <th>8</th>\n",
              "      <td>ProximalPhalanxOutlineAgeGroup</td>\n",
              "      <td>605</td>\n",
              "      <td>80</td>\n",
              "      <td>3</td>\n",
              "    </tr>\n",
              "    <tr>\n",
              "      <th>9</th>\n",
              "      <td>ProximalPhalanxTW</td>\n",
              "      <td>605</td>\n",
              "      <td>80</td>\n",
              "      <td>6</td>\n",
              "    </tr>\n",
              "  </tbody>\n",
              "</table>\n",
              "</div>\n",
              "    <div class=\"colab-df-buttons\">\n",
              "\n",
              "  <div class=\"colab-df-container\">\n",
              "    <button class=\"colab-df-convert\" onclick=\"convertToInteractive('df-b165b11d-ed67-48f0-8f5f-6ea5549d5bbb')\"\n",
              "            title=\"Convert this dataframe to an interactive table.\"\n",
              "            style=\"display:none;\">\n",
              "\n",
              "  <svg xmlns=\"http://www.w3.org/2000/svg\" height=\"24px\" viewBox=\"0 -960 960 960\">\n",
              "    <path d=\"M120-120v-720h720v720H120Zm60-500h600v-160H180v160Zm220 220h160v-160H400v160Zm0 220h160v-160H400v160ZM180-400h160v-160H180v160Zm440 0h160v-160H620v160ZM180-180h160v-160H180v160Zm440 0h160v-160H620v160Z\"/>\n",
              "  </svg>\n",
              "    </button>\n",
              "\n",
              "  <style>\n",
              "    .colab-df-container {\n",
              "      display:flex;\n",
              "      gap: 12px;\n",
              "    }\n",
              "\n",
              "    .colab-df-convert {\n",
              "      background-color: #E8F0FE;\n",
              "      border: none;\n",
              "      border-radius: 50%;\n",
              "      cursor: pointer;\n",
              "      display: none;\n",
              "      fill: #1967D2;\n",
              "      height: 32px;\n",
              "      padding: 0 0 0 0;\n",
              "      width: 32px;\n",
              "    }\n",
              "\n",
              "    .colab-df-convert:hover {\n",
              "      background-color: #E2EBFA;\n",
              "      box-shadow: 0px 1px 2px rgba(60, 64, 67, 0.3), 0px 1px 3px 1px rgba(60, 64, 67, 0.15);\n",
              "      fill: #174EA6;\n",
              "    }\n",
              "\n",
              "    .colab-df-buttons div {\n",
              "      margin-bottom: 4px;\n",
              "    }\n",
              "\n",
              "    [theme=dark] .colab-df-convert {\n",
              "      background-color: #3B4455;\n",
              "      fill: #D2E3FC;\n",
              "    }\n",
              "\n",
              "    [theme=dark] .colab-df-convert:hover {\n",
              "      background-color: #434B5C;\n",
              "      box-shadow: 0px 1px 3px 1px rgba(0, 0, 0, 0.15);\n",
              "      filter: drop-shadow(0px 1px 2px rgba(0, 0, 0, 0.3));\n",
              "      fill: #FFFFFF;\n",
              "    }\n",
              "  </style>\n",
              "\n",
              "    <script>\n",
              "      const buttonEl =\n",
              "        document.querySelector('#df-b165b11d-ed67-48f0-8f5f-6ea5549d5bbb button.colab-df-convert');\n",
              "      buttonEl.style.display =\n",
              "        google.colab.kernel.accessAllowed ? 'block' : 'none';\n",
              "\n",
              "      async function convertToInteractive(key) {\n",
              "        const element = document.querySelector('#df-b165b11d-ed67-48f0-8f5f-6ea5549d5bbb');\n",
              "        const dataTable =\n",
              "          await google.colab.kernel.invokeFunction('convertToInteractive',\n",
              "                                                    [key], {});\n",
              "        if (!dataTable) return;\n",
              "\n",
              "        const docLinkHtml = 'Like what you see? Visit the ' +\n",
              "          '<a target=\"_blank\" href=https://colab.research.google.com/notebooks/data_table.ipynb>data table notebook</a>'\n",
              "          + ' to learn more about interactive tables.';\n",
              "        element.innerHTML = '';\n",
              "        dataTable['output_type'] = 'display_data';\n",
              "        await google.colab.output.renderOutput(dataTable, element);\n",
              "        const docLink = document.createElement('div');\n",
              "        docLink.innerHTML = docLinkHtml;\n",
              "        element.appendChild(docLink);\n",
              "      }\n",
              "    </script>\n",
              "  </div>\n",
              "\n",
              "\n",
              "<div id=\"df-ac4b5a43-a3c8-4a49-bf47-f2293ce8f920\">\n",
              "  <button class=\"colab-df-quickchart\" onclick=\"quickchart('df-ac4b5a43-a3c8-4a49-bf47-f2293ce8f920')\"\n",
              "            title=\"Suggest charts\"\n",
              "            style=\"display:none;\">\n",
              "\n",
              "<svg xmlns=\"http://www.w3.org/2000/svg\" height=\"24px\"viewBox=\"0 0 24 24\"\n",
              "     width=\"24px\">\n",
              "    <g>\n",
              "        <path d=\"M19 3H5c-1.1 0-2 .9-2 2v14c0 1.1.9 2 2 2h14c1.1 0 2-.9 2-2V5c0-1.1-.9-2-2-2zM9 17H7v-7h2v7zm4 0h-2V7h2v10zm4 0h-2v-4h2v4z\"/>\n",
              "    </g>\n",
              "</svg>\n",
              "  </button>\n",
              "\n",
              "<style>\n",
              "  .colab-df-quickchart {\n",
              "      --bg-color: #E8F0FE;\n",
              "      --fill-color: #1967D2;\n",
              "      --hover-bg-color: #E2EBFA;\n",
              "      --hover-fill-color: #174EA6;\n",
              "      --disabled-fill-color: #AAA;\n",
              "      --disabled-bg-color: #DDD;\n",
              "  }\n",
              "\n",
              "  [theme=dark] .colab-df-quickchart {\n",
              "      --bg-color: #3B4455;\n",
              "      --fill-color: #D2E3FC;\n",
              "      --hover-bg-color: #434B5C;\n",
              "      --hover-fill-color: #FFFFFF;\n",
              "      --disabled-bg-color: #3B4455;\n",
              "      --disabled-fill-color: #666;\n",
              "  }\n",
              "\n",
              "  .colab-df-quickchart {\n",
              "    background-color: var(--bg-color);\n",
              "    border: none;\n",
              "    border-radius: 50%;\n",
              "    cursor: pointer;\n",
              "    display: none;\n",
              "    fill: var(--fill-color);\n",
              "    height: 32px;\n",
              "    padding: 0;\n",
              "    width: 32px;\n",
              "  }\n",
              "\n",
              "  .colab-df-quickchart:hover {\n",
              "    background-color: var(--hover-bg-color);\n",
              "    box-shadow: 0 1px 2px rgba(60, 64, 67, 0.3), 0 1px 3px 1px rgba(60, 64, 67, 0.15);\n",
              "    fill: var(--button-hover-fill-color);\n",
              "  }\n",
              "\n",
              "  .colab-df-quickchart-complete:disabled,\n",
              "  .colab-df-quickchart-complete:disabled:hover {\n",
              "    background-color: var(--disabled-bg-color);\n",
              "    fill: var(--disabled-fill-color);\n",
              "    box-shadow: none;\n",
              "  }\n",
              "\n",
              "  .colab-df-spinner {\n",
              "    border: 2px solid var(--fill-color);\n",
              "    border-color: transparent;\n",
              "    border-bottom-color: var(--fill-color);\n",
              "    animation:\n",
              "      spin 1s steps(1) infinite;\n",
              "  }\n",
              "\n",
              "  @keyframes spin {\n",
              "    0% {\n",
              "      border-color: transparent;\n",
              "      border-bottom-color: var(--fill-color);\n",
              "      border-left-color: var(--fill-color);\n",
              "    }\n",
              "    20% {\n",
              "      border-color: transparent;\n",
              "      border-left-color: var(--fill-color);\n",
              "      border-top-color: var(--fill-color);\n",
              "    }\n",
              "    30% {\n",
              "      border-color: transparent;\n",
              "      border-left-color: var(--fill-color);\n",
              "      border-top-color: var(--fill-color);\n",
              "      border-right-color: var(--fill-color);\n",
              "    }\n",
              "    40% {\n",
              "      border-color: transparent;\n",
              "      border-right-color: var(--fill-color);\n",
              "      border-top-color: var(--fill-color);\n",
              "    }\n",
              "    60% {\n",
              "      border-color: transparent;\n",
              "      border-right-color: var(--fill-color);\n",
              "    }\n",
              "    80% {\n",
              "      border-color: transparent;\n",
              "      border-right-color: var(--fill-color);\n",
              "      border-bottom-color: var(--fill-color);\n",
              "    }\n",
              "    90% {\n",
              "      border-color: transparent;\n",
              "      border-bottom-color: var(--fill-color);\n",
              "    }\n",
              "  }\n",
              "</style>\n",
              "\n",
              "  <script>\n",
              "    async function quickchart(key) {\n",
              "      const quickchartButtonEl =\n",
              "        document.querySelector('#' + key + ' button');\n",
              "      quickchartButtonEl.disabled = true;  // To prevent multiple clicks.\n",
              "      quickchartButtonEl.classList.add('colab-df-spinner');\n",
              "      try {\n",
              "        const charts = await google.colab.kernel.invokeFunction(\n",
              "            'suggestCharts', [key], {});\n",
              "      } catch (error) {\n",
              "        console.error('Error during call to suggestCharts:', error);\n",
              "      }\n",
              "      quickchartButtonEl.classList.remove('colab-df-spinner');\n",
              "      quickchartButtonEl.classList.add('colab-df-quickchart-complete');\n",
              "    }\n",
              "    (() => {\n",
              "      let quickchartButtonEl =\n",
              "        document.querySelector('#df-ac4b5a43-a3c8-4a49-bf47-f2293ce8f920 button');\n",
              "      quickchartButtonEl.style.display =\n",
              "        google.colab.kernel.accessAllowed ? 'block' : 'none';\n",
              "    })();\n",
              "  </script>\n",
              "</div>\n",
              "\n",
              "    </div>\n",
              "  </div>\n"
            ],
            "application/vnd.google.colaboratory.intrinsic+json": {
              "type": "dataframe",
              "summary": "{\n  \"name\": \"pd\",\n  \"rows\": 10,\n  \"fields\": [\n    {\n      \"column\": \"dataset\",\n      \"properties\": {\n        \"dtype\": \"string\",\n        \"num_unique_values\": 10,\n        \"samples\": [\n          \"ProximalPhalanxOutlineAgeGroup\",\n          \"Car\",\n          \"MiddlePhalanxTW\"\n        ],\n        \"semantic_type\": \"\",\n        \"description\": \"\"\n      }\n    },\n    {\n      \"column\": \"size\",\n      \"properties\": {\n        \"dtype\": \"number\",\n        \"std\": 174,\n        \"min\": 120,\n        \"max\": 605,\n        \"num_unique_values\": 8,\n        \"samples\": [\n          120,\n          554,\n          200\n        ],\n        \"semantic_type\": \"\",\n        \"description\": \"\"\n      }\n    },\n    {\n      \"column\": \"length\",\n      \"properties\": {\n        \"dtype\": \"number\",\n        \"std\": 190,\n        \"min\": 24,\n        \"max\": 577,\n        \"num_unique_values\": 5,\n        \"samples\": [\n          577,\n          463,\n          24\n        ],\n        \"semantic_type\": \"\",\n        \"description\": \"\"\n      }\n    },\n    {\n      \"column\": \"n_classes\",\n      \"properties\": {\n        \"dtype\": \"number\",\n        \"std\": 1,\n        \"min\": 2,\n        \"max\": 7,\n        \"num_unique_values\": 5,\n        \"samples\": [\n          4,\n          7,\n          3\n        ],\n        \"semantic_type\": \"\",\n        \"description\": \"\"\n      }\n    }\n  ]\n}"
            }
          },
          "metadata": {},
          "execution_count": 171
        }
      ],
      "source": [
        "datasets = []\n",
        "info = {'dataset': [], 'size': [], 'length': [], 'n_classes': []}\n",
        "for name in dataset_names:\n",
        "    try:\n",
        "        X_train, y_train, X_test, y_test = loader.load_dataset(name)\n",
        "        X = np.concatenate((X_train, X_test)).squeeze()\n",
        "        y = np.concatenate((y_train, y_test))\n",
        "        datasets.append((name, X, y))\n",
        "        info['dataset'].append(name)\n",
        "        info['size'].append(X.shape[0])\n",
        "        info['length'].append(X.shape[1])\n",
        "        info['n_classes'].append(len(np.unique(y)))\n",
        "    except:\n",
        "        print(name, 'failed')\n",
        "pd.DataFrame(info)"
      ]
    },
    {
      "cell_type": "markdown",
      "metadata": {
        "id": "HtUh59oR5eYM"
      },
      "source": [
        "# Helper functions\n",
        "\n",
        "Some utility functions I implemented."
      ]
    },
    {
      "cell_type": "markdown",
      "source": [
        "## 10-fold data splitter\n",
        "\n",
        "This function will return indices of corresponding instances for 10 folds, to be used in cross validation."
      ],
      "metadata": {
        "id": "be-qBA2f_rU2"
      }
    },
    {
      "cell_type": "code",
      "execution_count": null,
      "metadata": {
        "id": "oD1nx-et5dgt"
      },
      "outputs": [],
      "source": [
        "def ten_fold_indices(n):\n",
        "    fold_size = n // 10\n",
        "    remainder = n % 10\n",
        "    indices = np.arange(n)\n",
        "    fold_indices = []\n",
        "    start = 0\n",
        "    for i in range(10):\n",
        "        end = start + fold_size\n",
        "        if i < remainder:\n",
        "            end += 1\n",
        "        fold_indices.append(indices[start:end])\n",
        "        start = end\n",
        "    return fold_indices"
      ]
    },
    {
      "cell_type": "markdown",
      "source": [
        "Testing..."
      ],
      "metadata": {
        "id": "0ydby1U0AMkO"
      }
    },
    {
      "cell_type": "code",
      "execution_count": null,
      "metadata": {
        "colab": {
          "base_uri": "https://localhost:8080/"
        },
        "id": "9VfVVVQD7Stn",
        "outputId": "d3ff4b19-3812-4a0b-f7c8-f581342838ea"
      },
      "outputs": [
        {
          "data": {
            "text/plain": [
              "[array([0, 1, 2]),\n",
              " array([3, 4, 5]),\n",
              " array([6, 7]),\n",
              " array([8, 9]),\n",
              " array([10, 11]),\n",
              " array([12, 13]),\n",
              " array([14, 15]),\n",
              " array([16, 17]),\n",
              " array([18, 19]),\n",
              " array([20, 21])]"
            ]
          },
          "execution_count": 137,
          "metadata": {},
          "output_type": "execute_result"
        }
      ],
      "source": [
        "ten_fold_indices(22)"
      ]
    },
    {
      "cell_type": "markdown",
      "source": [
        "## Accuracy measure:"
      ],
      "metadata": {
        "id": "yD0OqfnwAPzQ"
      }
    },
    {
      "cell_type": "code",
      "execution_count": null,
      "metadata": {
        "id": "vaO4_Pah9b2w"
      },
      "outputs": [],
      "source": [
        "def accuracy(y_hat, y):\n",
        "    return np.sum(y_hat == y) / len(y)"
      ]
    },
    {
      "cell_type": "markdown",
      "source": [
        "Testing..."
      ],
      "metadata": {
        "id": "WaVbc4kaAS45"
      }
    },
    {
      "cell_type": "code",
      "execution_count": null,
      "metadata": {
        "colab": {
          "base_uri": "https://localhost:8080/"
        },
        "id": "FjbDXb309jUp",
        "outputId": "884a7410-3e3e-447b-b7a7-37bb81ee9145"
      },
      "outputs": [
        {
          "data": {
            "text/plain": [
              "0.9"
            ]
          },
          "execution_count": 139,
          "metadata": {},
          "output_type": "execute_result"
        }
      ],
      "source": [
        "accuracy(np.array([1, 1, 1, 1, 1, 1, 1, 1, 1, 1]), np.array([0, 1, 1, 1, 1, 1, 1, 1, 1, 1]))"
      ]
    },
    {
      "cell_type": "markdown",
      "source": [
        "## Fit and test\n",
        "\n",
        "This function will fit a model on training data and measure the accuracy on testing data. The model is `cloned` so that the parameters are re-initialized, regardless of previous trainings, i.e., the `model` instance itself is never fit."
      ],
      "metadata": {
        "id": "Os6ZveadAV0L"
      }
    },
    {
      "cell_type": "code",
      "execution_count": null,
      "metadata": {
        "id": "71EdOzlQ-IfA"
      },
      "outputs": [],
      "source": [
        "def fit_and_test(model, X_train, y_train, X_test, y_test):\n",
        "    model_temp = model.clone()\n",
        "    model_temp.fit(X_train, y_train)\n",
        "    y_hat = model_temp.predict(X_test)\n",
        "    return accuracy(y_hat, y_test)"
      ]
    },
    {
      "cell_type": "markdown",
      "source": [
        "## Aggregate\n",
        "\n",
        "This function performs 10-k cross validation for a model on a dataset, using `fit_and_test` and `ten-fold-indices`. It considers each fold as a testing set and the rest as the training set, in each iteration, and returns the mean accuracy across all folds."
      ],
      "metadata": {
        "id": "qryPNjAFA72i"
      }
    },
    {
      "cell_type": "code",
      "execution_count": null,
      "metadata": {
        "id": "aM2r2zu7-48b"
      },
      "outputs": [],
      "source": [
        "def aggregate(model, X, y):\n",
        "    fold_indices = ten_fold_indices(len(X))\n",
        "    accuracies = []\n",
        "    for test_indices in fold_indices:\n",
        "        X_test, y_test = X[test_indices], y[test_indices]\n",
        "        X_train, y_train = X[~test_indices], y[~test_indices]\n",
        "        accuracy = fit_and_test(model, X_train, y_train, X_test, y_test)\n",
        "        accuracies.append(accuracy)\n",
        "    return np.mean(accuracies)"
      ]
    },
    {
      "cell_type": "markdown",
      "metadata": {
        "id": "mucJBxBF13rG"
      },
      "source": [
        "# Experiments\n",
        "\n",
        "## Models\n",
        "\n",
        "My four chosen classifiers chosen from dictionary, feature, shapelet and interval based categories are, BOSSEnsemble, Summary, RDST, and TimeSeriesForest."
      ]
    },
    {
      "cell_type": "code",
      "execution_count": null,
      "metadata": {
        "id": "uYbPO2ruAWSH"
      },
      "outputs": [],
      "source": [
        "from aeon.classification.dictionary_based import BOSSEnsemble\n",
        "from aeon.classification.feature_based import SummaryClassifier\n",
        "from aeon.classification.shapelet_based import RDSTClassifier\n",
        "from aeon.classification.interval_based import TimeSeriesForestClassifier"
      ]
    },
    {
      "cell_type": "markdown",
      "source": [
        "There is a deprecation warning popping up in the aeon library during training that I will suppress here."
      ],
      "metadata": {
        "id": "foQOxcMfB65v"
      }
    },
    {
      "cell_type": "code",
      "execution_count": null,
      "metadata": {
        "id": "da9L3xWmDybv"
      },
      "outputs": [],
      "source": [
        "import warnings\n",
        "warnings.filterwarnings('ignore')"
      ]
    },
    {
      "cell_type": "markdown",
      "source": [
        "`n_jobs=-1` means to use all the processing cores available. The rest of the hyperparameters are left as their default values."
      ],
      "metadata": {
        "id": "VhsAFMb-ClhG"
      }
    },
    {
      "cell_type": "code",
      "execution_count": 167,
      "metadata": {
        "id": "pmmJ5DNNyDZD"
      },
      "outputs": [],
      "source": [
        "models = [\n",
        "    BOSSEnsemble(n_jobs=-1),\n",
        "    SummaryClassifier(),\n",
        "    RDSTClassifier(n_jobs=-1),\n",
        "    TimeSeriesForestClassifier(n_jobs=-1)\n",
        "]"
      ]
    },
    {
      "cell_type": "markdown",
      "source": [
        "## Training and testing\n",
        "The following loop will get the 40 mean accuracies, for each dataset and for each model."
      ],
      "metadata": {
        "id": "n2NFFAIFCE0G"
      }
    },
    {
      "cell_type": "code",
      "execution_count": 172,
      "metadata": {
        "id": "xDsjW1alCbvK"
      },
      "outputs": [],
      "source": [
        "results = []\n",
        "for dataset_name, X, y in tqdm(datasets):\n",
        "    dataset_results = []\n",
        "    for model in models:\n",
        "        mean_accuracy = aggregate(model, X, y)\n",
        "        dataset_results.append(mean_accuracy)\n",
        "    results.append(dataset_results)"
      ]
    },
    {
      "cell_type": "markdown",
      "source": [
        "# Comparison\n",
        "\n",
        "Here are the mean accuracies of each classifier for each dataset, across 10 folds for testing."
      ],
      "metadata": {
        "id": "b1t0tyYgQ-ye"
      }
    },
    {
      "cell_type": "code",
      "execution_count": 191,
      "metadata": {
        "colab": {
          "base_uri": "https://localhost:8080/"
        },
        "id": "FKRCtJqdDLkC",
        "outputId": "8a0dbb54-5d28-4fc9-a3b1-e9034c9b40f8"
      },
      "outputs": [
        {
          "output_type": "stream",
          "name": "stdout",
          "text": [
            "\t\tboss\tsummary\trdst\ttsf\n",
            "dataset 1\t0.765\t0.675\t0.810\t0.780\t\n",
            "dataset 2\t0.583\t0.333\t0.725\t0.567\t\n",
            "dataset 3\t0.502\t0.496\t0.513\t0.513\t\n",
            "dataset 4\t0.697\t0.721\t0.710\t0.745\t\n",
            "dataset 5\t0.598\t0.567\t0.587\t0.608\t\n",
            "dataset 6\t0.453\t0.467\t0.474\t0.478\t\n",
            "dataset 7\t0.667\t0.685\t0.701\t0.681\t\n",
            "dataset 8\t0.854\t0.369\t0.877\t0.623\t\n",
            "dataset 9\t0.578\t0.588\t0.689\t0.598\t\n",
            "dataset 10\t0.711\t0.676\t0.689\t0.729\t\n"
          ]
        }
      ],
      "source": [
        "print('\\t\\tboss\\tsummary\\trdst\\ttsf')\n",
        "for i, dataset_results in enumerate(results):\n",
        "    print('dataset', i+1, end='\\t')\n",
        "    for j, model_result in enumerate(dataset_results):\n",
        "        print(f'{model_result:.3f}', end='\\t')\n",
        "    print()"
      ]
    },
    {
      "cell_type": "markdown",
      "source": [
        "## Critical Difference diagram"
      ],
      "metadata": {
        "id": "5elwgOmgRoHU"
      }
    },
    {
      "cell_type": "code",
      "execution_count": 175,
      "metadata": {
        "id": "fJkQiRfcEVZO"
      },
      "outputs": [],
      "source": [
        "from aeon.visualisation import plot_critical_difference"
      ]
    },
    {
      "cell_type": "code",
      "execution_count": 194,
      "metadata": {
        "id": "Rlahwi-ugnKM",
        "colab": {
          "base_uri": "https://localhost:8080/",
          "height": 267
        },
        "outputId": "85713997-000e-4297-d085-3a0e28b6e962"
      },
      "outputs": [
        {
          "output_type": "display_data",
          "data": {
            "text/plain": [
              "<Figure size 600x230 with 1 Axes>"
            ],
            "image/png": "[encoded data removed]"
          },
          "metadata": {}
        }
      ],
      "source": [
        "_ = plot_critical_difference(results, ['boss', 'summary', 'rdst', 'tsf'])"
      ]
    }
  ],
  "metadata": {
    "colab": {
      "provenance": [],
      "toc_visible": true
    },
    "kernelspec": {
      "display_name": "Python 3",
      "name": "python3"
    },
    "language_info": {
      "name": "python"
    }
  },
  "nbformat": 4,
  "nbformat_minor": 0
}